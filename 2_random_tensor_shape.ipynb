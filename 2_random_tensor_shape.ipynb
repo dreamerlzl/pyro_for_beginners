{
 "cells": [
  {
   "cell_type": "markdown",
   "metadata": {},
   "source": [
    "This notebook covers the shape of tensors in pyro; can be viewed as a more friendly version of the official tutorial [http://pyro.ai/examples/tensor_shapes.html](http://pyro.ai/examples/tensor_shapes.html)."
   ]
  },
  {
   "cell_type": "code",
   "execution_count": 30,
   "metadata": {},
   "outputs": [],
   "source": [
    "import pyro\n",
    "import pyro.distributions as dist\n",
    "import torch"
   ]
  },
  {
   "cell_type": "markdown",
   "metadata": {},
   "source": [
    "A sampling from distributions has two shapes: `batch_shape` and `event_shape`. `batch_shape` means the shape of samplings (batch_shape can be used to indicate independence among variables; see `3_random_variable_dependency`); for example,  "
   ]
  },
  {
   "cell_type": "code",
   "execution_count": 42,
   "metadata": {},
   "outputs": [
    {
     "data": {
      "text/plain": [
       "tensor([[0., 0., 1., 0.],\n",
       "        [1., 0., 0., 1.],\n",
       "        [0., 0., 0., 1.]])"
      ]
     },
     "execution_count": 42,
     "metadata": {},
     "output_type": "execute_result"
    }
   ],
   "source": [
    "d = dist.Bernoulli(0.5 * torch.ones(3,4))\n",
    "assert d.batch_shape == (3, 4)\n",
    "x = d.sample()  # 3×4 random variables \n",
    "x"
   ]
  },
  {
   "cell_type": "code",
   "execution_count": 44,
   "metadata": {},
   "outputs": [
    {
     "data": {
      "text/plain": [
       "tensor([1., 1.])"
      ]
     },
     "execution_count": 44,
     "metadata": {},
     "output_type": "execute_result"
    }
   ],
   "source": [
    "d = dist.Bernoulli(torch.as_tensor([0.5, 0.4]))\n",
    "assert d.batch_shape == (2, )\n",
    "x = d.sample()\n",
    "x "
   ]
  },
  {
   "cell_type": "markdown",
   "metadata": {},
   "source": [
    "Typically `expand` is used to reshape `batch_shape`:"
   ]
  },
  {
   "cell_type": "code",
   "execution_count": 34,
   "metadata": {},
   "outputs": [
    {
     "name": "stdout",
     "output_type": "stream",
     "text": [
      "the argument of expand must be [batch_shape_to_add] + [batch_shape_already]\n"
     ]
    }
   ],
   "source": [
    "d = dist.Bernoulli(torch.tensor([0.1, 0.2, 0.3, 0.4])) \n",
    "assert d.batch_shape == (4, ) # 4 variables with different Bernoulli parameters\n",
    "d1 = d.expand([2, 3, 4]) \n",
    "assert d1.batch_shape == (2,3,4)\n",
    "d11 = d1.expand([2,2,3,4])\n",
    "assert d11.batch_shape == (2,2,3,4)\n",
    "\n",
    "try:\n",
    "    d2 = d.expand([2,3,5])\n",
    "except:\n",
    "    print('the argument of expand must be [batch_shape_to_add] + [batch_shape_already]')"
   ]
  },
  {
   "cell_type": "markdown",
   "metadata": {},
   "source": [
    "When the distribution returns a random tensor (vector, matrix, etc.), the `event_shape` indicates that size. For example, "
   ]
  },
  {
   "cell_type": "code",
   "execution_count": 32,
   "metadata": {},
   "outputs": [],
   "source": [
    "d = dist.MultivariateNormal(torch.zeros(3), torch.eye(3, 3))\n",
    "assert d.batch_shape == ()        # not specifying batch, so only one random vector will be generated each time\n",
    "assert d.event_shape == (3,)\n",
    "x = d.sample()\n",
    "assert x.shape == (3,)            # == batch_shape + event_shape"
   ]
  },
  {
   "cell_type": "markdown",
   "metadata": {},
   "source": [
    "`to_event` is used to shape `event_shape`:"
   ]
  },
  {
   "cell_type": "code",
   "execution_count": 35,
   "metadata": {},
   "outputs": [
    {
     "data": {
      "text/plain": [
       "<bound method TorchDistributionMixin.shape of Independent(Bernoulli(probs: torch.Size([3, 4, 2, 5])), 2)>"
      ]
     },
     "execution_count": 35,
     "metadata": {},
     "output_type": "execute_result"
    }
   ],
   "source": [
    "d = dist.Bernoulli(0.5 * torch.ones(3, 4, 2, 5)).to_event(2)\n",
    "assert d.batch_shape == (3, 4)\n",
    "assert d.event_shape == (2, 5)\n",
    "# to_event(n) turns the last n dimensions of batch_shape to event_shape\n",
    "d.shape"
   ]
  },
  {
   "cell_type": "markdown",
   "metadata": {},
   "source": [
    "The shape of a sample is `batch_shape + event_shape`:"
   ]
  },
  {
   "cell_type": "code",
   "execution_count": 33,
   "metadata": {},
   "outputs": [
    {
     "data": {
      "text/plain": [
       "tensor([[[ 0.8970,  0.8968, -1.1532],\n",
       "         [ 1.7721,  0.8879,  2.1872],\n",
       "         [ 0.1745, -0.2508,  0.0775],\n",
       "         [ 1.0610, -0.6311,  1.3013]],\n",
       "\n",
       "        [[ 0.5469, -0.0949,  1.2606],\n",
       "         [ 0.2467,  1.3282,  2.0833],\n",
       "         [ 0.2237,  0.8364, -0.7097],\n",
       "         [ 0.7022,  1.1130, -0.1235]],\n",
       "\n",
       "        [[-1.0572,  1.1353, -0.2552],\n",
       "         [ 0.6337, -1.3282,  0.5570],\n",
       "         [ 0.1824,  1.7431, -0.6060],\n",
       "         [-1.0008,  2.3194, -0.7607]]])"
      ]
     },
     "execution_count": 33,
     "metadata": {},
     "output_type": "execute_result"
    }
   ],
   "source": [
    "d = dist.MultivariateNormal(torch.zeros(3), torch.eye(3, 3)).expand([3, 4])\n",
    "assert d.batch_shape == (3, 4)\n",
    "assert d.event_shape == (3, )\n",
    "x = d.sample()\n",
    "assert x.shape == (3, 4, 3) # 3×4 random vectors of size 3\n",
    "x"
   ]
  },
  {
   "cell_type": "markdown",
   "metadata": {},
   "source": [
    "We can use the following code to view the shapes of all random variables in a model:"
   ]
  },
  {
   "cell_type": "code",
   "execution_count": null,
   "metadata": {},
   "outputs": [],
   "source": [
    "from pyro import poutine\n",
    "trace = poutine.trace(model).get_trace()\n",
    "trace.compute_log_prob()  # optional, but allows printing of log_prob shapes\n",
    "print(trace.format_shapes())"
   ]
  },
  {
   "cell_type": "markdown",
   "metadata": {},
   "source": [
    "## Log probability of samples"
   ]
  },
  {
   "cell_type": "markdown",
   "metadata": {},
   "source": [
    "For distributions which provide the `log_prob` function, we can use it to calculate the log probability of the sample. "
   ]
  },
  {
   "cell_type": "code",
   "execution_count": 36,
   "metadata": {},
   "outputs": [
    {
     "data": {
      "text/plain": [
       "tensor(-0.6931)"
      ]
     },
     "execution_count": 36,
     "metadata": {},
     "output_type": "execute_result"
    }
   ],
   "source": [
    "d = dist.Bernoulli(0.5)\n",
    "x = d.sample()\n",
    "d.log_prob(x) # ln(0.5)"
   ]
  },
  {
   "cell_type": "markdown",
   "metadata": {},
   "source": [
    "The shape of `log_prob` is the same as the distribution's `batch_shape` (variables indiced by `event_shape` are considered dependent):"
   ]
  },
  {
   "cell_type": "code",
   "execution_count": 37,
   "metadata": {},
   "outputs": [],
   "source": [
    "d = dist.Bernoulli(torch.tensor([0.1, 0.2, 0.3, 0.4])).expand([3, 4])\n",
    "assert d.batch_shape == (3, 4)\n",
    "assert d.event_shape == ()\n",
    "x = d.sample()\n",
    "assert x.shape == (3, 4)\n",
    "assert d.log_prob(x).shape == (3, 4)"
   ]
  },
  {
   "cell_type": "code",
   "execution_count": 38,
   "metadata": {},
   "outputs": [],
   "source": [
    "d = dist.Bernoulli(0.5 * torch.ones(3, 4, 2, 5)).to_event(2)\n",
    "x = d.sample()\n",
    "assert d.log_prob(x).shape == (3, 4)"
   ]
  },
  {
   "cell_type": "code",
   "execution_count": null,
   "metadata": {},
   "outputs": [],
   "source": []
  }
 ],
 "metadata": {
  "kernelspec": {
   "display_name": "Python (dev)",
   "language": "python",
   "name": "dev"
  },
  "language_info": {
   "codemirror_mode": {
    "name": "ipython",
    "version": 3
   },
   "file_extension": ".py",
   "mimetype": "text/x-python",
   "name": "python",
   "nbconvert_exporter": "python",
   "pygments_lexer": "ipython3",
   "version": "3.7.4"
  }
 },
 "nbformat": 4,
 "nbformat_minor": 2
}
