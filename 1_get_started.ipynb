{
 "cells": [
  {
   "cell_type": "markdown",
   "metadata": {},
   "source": [
    "## Pre-requisite"
   ]
  },
  {
   "cell_type": "markdown",
   "metadata": {},
   "source": [
    "- basic knowledge of python;\n",
    "- basic knowledge of variational approaches;\n",
    "- basic knowledge of the connection between variational autoencoders and variational approaches; readers can read [https://jaan.io/what-is-variational-autoencoder-vae-tutorial](https://jaan.io/what-is-variational-autoencoder-vae-tutorial);\n",
    "- the jupyter notebook python kernel has installed pyro and pytorch"
   ]
  },
  {
   "cell_type": "code",
   "execution_count": 2,
   "metadata": {},
   "outputs": [],
   "source": [
    "import pyro\n",
    "import pyro.distributions as dist"
   ]
  },
  {
   "cell_type": "markdown",
   "metadata": {},
   "source": [
    "First introduce some terminologies. A **stochastic function** is also called a **model** in pyro, which can be anything as long as with a `__call__` method. **A model describes the process of sampling**. **Primitive stochastic functions**, or distributions, are the basic building blocks of stochastic functions in pyro (here the `dist.Normal`):"
   ]
  },
  {
   "cell_type": "code",
   "execution_count": 3,
   "metadata": {},
   "outputs": [
    {
     "name": "stdout",
     "output_type": "stream",
     "text": [
      "tensor(0.2784)\n"
     ]
    }
   ],
   "source": [
    "x = pyro.sample('x', dist.Normal(0, 1))\n",
    "print(x)"
   ]
  },
  {
   "cell_type": "markdown",
   "metadata": {},
   "source": [
    "Here we create a random variable named \"x\" which is subject to the normal distribution $N(0, 1)$. A complete list of distributions supported in pyro is [here](https://docs.pyro.ai/en/stable/distributions.html?highlight=pyro.distributions.Cate#module-pyro.distributions.torch)."
   ]
  },
  {
   "cell_type": "markdown",
   "metadata": {},
   "source": [
    "A model always consists of stochastic function calls and deterministic python code. \n",
    "Note that the first argument of `pyro.sample` is the \"name\" of the random variable/sample statement (also called a **sample site**). It could be used later to identify variables like conditioning:"
   ]
  },
  {
   "cell_type": "code",
   "execution_count": 1,
   "metadata": {},
   "outputs": [
    {
     "name": "stdout",
     "output_type": "stream",
     "text": [
      "9.5\n"
     ]
    }
   ],
   "source": [
    "def scale(guess):\n",
    "    weight = pyro.sample(\"weight\", dist.Normal(guess, 1.0))\n",
    "    return pyro.sample('measurement', dist.Normal(weight, 0.75))\n",
    "\n",
    "conditioned_scale = pyro.condition(scale, data={'measurement': 9.5})\n",
    "print(conditioned_scale(2)) # same interface as scale, still return the sampling of measurement\n",
    "# note that since its value is already conditioned, the return type is float instead of tensor"
   ]
  },
  {
   "cell_type": "markdown",
   "metadata": {},
   "source": [
    "But during sampling, the conditioning would only affect the variables observed. In the following, `weight` is not affected though conditioning on `measurement = 9.5`:"
   ]
  },
  {
   "cell_type": "code",
   "execution_count": 40,
   "metadata": {},
   "outputs": [
    {
     "name": "stdout",
     "output_type": "stream",
     "text": [
      "mean: 8.555059819698334\n",
      "<=========== after conditioning ============>\n",
      "mean: 8.493983931541443\n"
     ]
    }
   ],
   "source": [
    "def scale(guess):\n",
    "    weight = pyro.sample(\"weight\", dist.Normal(guess, 1.0))\n",
    "    return pyro.sample('measurement', dist.Normal(weight, 0.75)), weight\n",
    "\n",
    "times = 1000\n",
    "obs_guess = 8.5\n",
    "mean = 0.\n",
    "for i in range(times):\n",
    "    x = scale(obs_guess)[1].item()\n",
    "    mean += x\n",
    "    # print(f'{x:.2f}')\n",
    "mean /= times\n",
    "print(f'mean: {mean}')\n",
    "\n",
    "conditioned_scale = pyro.condition(scale, data={'measurement': 9.5})\n",
    "\n",
    "print('<=========== after conditioning ============>')\n",
    "\n",
    "mean = 0.\n",
    "for i in range(times):\n",
    "    x = conditioned_scale(obs_guess)[1].item()\n",
    "    mean += x\n",
    "    # print(f'{x:.2f}') \n",
    "mean /= times\n",
    "print(f'mean: {mean}')  # almost the same as pre-conditioning"
   ]
  },
  {
   "cell_type": "markdown",
   "metadata": {},
   "source": [
    "Note that:\n",
    "- theoretically, the mean of weight conditioned on `measurement = 9.5` (with `guess = 8.5`) is 9.14. It's in inference where the conditioning really functions; that is, to sample from a conditioned posterior distribution, you must use inference instead of directly calling the model (See [https://forum.pyro.ai/t/how-does-conditional-inference-works/1526](https://forum.pyro.ai/t/how-does-conditional-inference-works/1526)).\n",
    "- **A model doesn't need to have a return statement**(the return statement here is for illustration). It just describes the dependencies of random variables and the generative sampling process.  "
   ]
  },
  {
   "cell_type": "markdown",
   "metadata": {},
   "source": [
    "## Stochastic Variational Inference"
   ]
  },
  {
   "cell_type": "markdown",
   "metadata": {},
   "source": [
    "For the setting and goal of SVI, pyro tutorial gives a good introduction [here](https://pyro.ai/examples/svi_part_i.html#Setup). Note that: \n",
    "- Pyro should be able to compute the log probability of the model and the guide (see below);\n",
    "- generally speaking the model can have some parameters $\\theta$ but since the example here doesn't, we just omit the $\\theta$ for $p(\\mathbf{x}, \\mathbf{z})$. "
   ]
  },
  {
   "cell_type": "markdown",
   "metadata": {},
   "source": [
    "The core of SVI is to use a family of parameterized stochastic functions $q_{\\phi}(\\mathbf{z})$ called **guide** to approximate the posterior distribution of unobserved variables $p(\\mathbf{z} | \\mathbf{x})$ ; i.e., a special model used to approximate another model M. A guide G for a model M must satisfy the following requirements: \n",
    "- has the same argument list as M\n",
    "- all unobserved variables (unconditioned sample statements) in M must also appear in G (specified by the first argument of `pyro.sample`)\n",
    "- doesn't have observed sample statements\n",
    "- Also, guides have learnable parameters $\\phi$ which are updated by backprop to approximate the posterior. The general process is as follow:\n",
    "    - samples the unobserved variables from both the model M and the guide G\n",
    "    - compute the estimate of the **ELBO** loss from these samples\n",
    "    - update learnable parameters $\\phi$ by backprop\n",
    "\n",
    "(these are summarized from the official docs, not my personal, biased understanding)"
   ]
  },
  {
   "cell_type": "markdown",
   "metadata": {},
   "source": [
    "To be more detailed, ELBO is defined as $$ELBO = \\mathbb{E}_{\\mathbf{z} \\sim q_{\\phi}(\\mathbf{z})}[\\log p(\\mathbf{x}, \\mathbf{z}) - \\log q_{\\phi}(\\mathbf{z})]$$ Note here $\\mathbf{x}$ are the observations and they are fixed. "
   ]
  },
  {
   "cell_type": "markdown",
   "metadata": {},
   "source": [
    "Being \"stochastic\" means that instead of making a intractable computation of the exact ELBO, pyro samples $\\mathbf{z}_1, \\mathbf{z}_2, \\dots, \\mathbf{z}_S$ from the guide and use the Monte Carlo estimator: $$\\frac{1}{S}\\sum_{i=1}^S \\log p(\\mathbf{x}, \\mathbf{z}_i) - \\log q_{\\phi}(\\mathbf{z}_i)$$ So that we can compute the gradient based on this (remember it's a requirement that pyro can compute the log probability from both the model and the guide) and update $\\phi$ to make $q_{\\phi}(\\mathbf{z})$ closer to $p(\\mathbf{z}|\\mathbf{x})$."
   ]
  },
  {
   "cell_type": "markdown",
   "metadata": {},
   "source": [
    "Let's see a complete variational approximate inference example to illustrate how conditioning works:"
   ]
  },
  {
   "cell_type": "markdown",
   "metadata": {},
   "source": [
    "### A Simple Example"
   ]
  },
  {
   "cell_type": "markdown",
   "metadata": {},
   "source": [
    "Suppose the posterior distribution we want to approximate is $p_{\\theta}(z|x)$, and $q(z)$ is the guide used to approximate; i.e., we want to minimize\n",
    "\n",
    "KL$\\left(q(z)|| p_{\\theta}(z|x)\\right)$"
   ]
  },
  {
   "cell_type": "code",
   "execution_count": 51,
   "metadata": {},
   "outputs": [
    {
     "name": "stdout",
     "output_type": "stream",
     "text": [
      "a =  9.100713729858398\n",
      "b =  0.5922199487686157\n"
     ]
    },
    {
     "data": {
      "image/png": "[encoded data removed]",
      "text/plain": [
       "<Figure size 432x288 with 1 Axes>"
      ]
     },
     "metadata": {
      "needs_background": "light"
     },
     "output_type": "display_data"
    }
   ],
   "source": [
    "import pyro\n",
    "import pyro.distributions as dist\n",
    "import matplotlib.pyplot as plt\n",
    "import torch\n",
    "\n",
    "def scale():\n",
    "    guess = pyro.sample('guess', dist.Normal(2.0, 1.0))\n",
    "    weight = pyro.sample(\"weight\", dist.Normal(guess, 1.0))\n",
    "    return pyro.sample(\"measurement\", dist.Normal(weight, 0.75))\n",
    "\n",
    "conditioned_scale = pyro.condition(scale, data={'measurement': 9.5})\n",
    "conditioned_scale2 = pyro.condition(conditioned_scale, data={'guess': 8.5})\n",
    "\n",
    "from torch.distributions import constraints\n",
    "def scale_parametrized_guide():\n",
    "    a = pyro.param(\"a\", torch.tensor(8.5)) # 8.5 is the initial value for a\n",
    "    b = pyro.param(\"b\", torch.tensor(1.), constraint=constraints.positive) # 1 is the initial value for b\n",
    "    return pyro.sample(\"weight\", dist.Normal(a, b))  # no more torch.abs\n",
    "\n",
    "guess = 8.5\n",
    "\n",
    "pyro.clear_param_store()\n",
    "svi = pyro.infer.SVI(model=conditioned_scale2,\n",
    "                     guide=scale_parametrized_guide,\n",
    "                     optim=pyro.optim.SGD({\"lr\": 0.001, \"momentum\":0.1}),\n",
    "                     loss=pyro.infer.Trace_ELBO())\n",
    "\n",
    "\n",
    "losses, a,b  = [], [], []\n",
    "num_steps = 2500\n",
    "for t in range(num_steps):\n",
    "    losses.append(svi.step())\n",
    "    a.append(pyro.param(\"a\").item())\n",
    "    b.append(pyro.param(\"b\").item())\n",
    "\n",
    "plt.plot(losses)\n",
    "plt.title(\"ELBO\")\n",
    "plt.xlabel(\"step\")\n",
    "plt.ylabel(\"loss\");\n",
    "print('a = ',pyro.param(\"a\").item())\n",
    "print('b = ', pyro.param(\"b\").item())"
   ]
  },
  {
   "cell_type": "markdown",
   "metadata": {},
   "source": [
    "Note that:\n",
    "- though as a model, `conditioned_scale` returns the sampling of `measurement=9.5`, but it actually represents the desired posterior $$p(weight|measurement=9.5, guess=8.5)$$ during the inference.\n",
    "- Theorectially, $weight|measurement=9.5, guess=8.5 \\sim N(9.14, 0.6)$\n",
    "- We use $$weight \\sim N(a, b)$$ to approximate the posterior; `a` and `b` are learnable parameters updated by backprop. This is done by reparameterization $$ weight = a + b\\epsilon$$, where $$\\epsilon \\sim N(0, 1)$$ According to **Universality of the Uniform**, we can do this trick for any distribution whose CDF is continuous and strictly increasing on the support of itself. \n",
    "    - But still there are distributions where reparameterization is impossible. For the gradient update of these distributions, see [https://pyro.ai/examples/svi_part_iii.html](https://pyro.ai/examples/svi_part_iii.html)\n",
    "- All the distributions used here provide an interface `log_prob()` to compute the log probability, so the requirement is fullfilled.\n",
    "- Here the `constraint` is to ensure that the learnable parameter is a positive number. For a whole list of constraints, see [https://docs.pyro.ai/en/dev/_modules/torch/distributions/constraints.html?highlight=constraints#](https://docs.pyro.ai/en/dev/_modules/torch/distributions/constraints.html?highlight=constraints#)"
   ]
  },
  {
   "cell_type": "markdown",
   "metadata": {},
   "source": [
    "Generally speaking, \n",
    "- learnable parameters of guides <-> `pyro.param` (actually they are wrappers of `torch.Tensor` with `autograd=True`)\n",
    "- named, unobserved random variables <-> `pyro.sample`\n",
    "- named, observed random variables <-> `pyro.condition`"
   ]
  }
 ],
 "metadata": {
  "kernelspec": {
   "display_name": "Python (dev)",
   "language": "python",
   "name": "dev"
  },
  "language_info": {
   "codemirror_mode": {
    "name": "ipython",
    "version": 3
   },
   "file_extension": ".py",
   "mimetype": "text/x-python",
   "name": "python",
   "nbconvert_exporter": "python",
   "pygments_lexer": "ipython3",
   "version": "3.7.4"
  }
 },
 "nbformat": 4,
 "nbformat_minor": 2
}
